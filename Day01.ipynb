{
  "nbformat": 4,
  "nbformat_minor": 0,
  "metadata": {
    "colab": {
      "name": "Day01.ipynb",
      "provenance": [],
      "collapsed_sections": []
    },
    "kernelspec": {
      "name": "python3",
      "display_name": "Python 3"
    },
    "language_info": {
      "name": "python"
    },
    "gpuClass": "standard"
  },
  "cells": [
    {
      "cell_type": "markdown",
      "source": [
        "<h1> Day 01"
      ],
      "metadata": {
        "id": "CGCNwwh8onoD"
      }
    },
    {
      "cell_type": "code",
      "source": [
        "#Importing Tensorflow\n",
        "% tensorflow_version 2.x\n",
        "import tensorflow as tf\n",
        "tf.__version__\n"
      ],
      "metadata": {
        "colab": {
          "base_uri": "https://localhost:8080/",
          "height": 35
        },
        "id": "Jvn0o-IKo4VE",
        "outputId": "0b6bd748-1482-414d-9403-e2a82f176074"
      },
      "execution_count": 1,
      "outputs": [
        {
          "output_type": "execute_result",
          "data": {
            "text/plain": [
              "'2.8.2'"
            ],
            "application/vnd.google.colaboratory.intrinsic+json": {
              "type": "string"
            }
          },
          "metadata": {},
          "execution_count": 1
        }
      ]
    },
    {
      "cell_type": "code",
      "source": [
        "#Create tensors using tf.constant()\n",
        "\n",
        "scalar = tf.constant(7)\n",
        "scalar"
      ],
      "metadata": {
        "colab": {
          "base_uri": "https://localhost:8080/"
        },
        "id": "oQVtguZivpzK",
        "outputId": "4c57e2b6-dae8-4dc8-85f7-5b42b8175894"
      },
      "execution_count": 5,
      "outputs": [
        {
          "output_type": "execute_result",
          "data": {
            "text/plain": [
              "<tf.Tensor: shape=(), dtype=int32, numpy=7>"
            ]
          },
          "metadata": {},
          "execution_count": 5
        }
      ]
    },
    {
      "cell_type": "code",
      "source": [
        "scalar.ndim"
      ],
      "metadata": {
        "colab": {
          "base_uri": "https://localhost:8080/"
        },
        "id": "3cYo6j1gwnjq",
        "outputId": "e867e19e-8cfd-42c7-b53a-0be1e5ea39bc"
      },
      "execution_count": 7,
      "outputs": [
        {
          "output_type": "execute_result",
          "data": {
            "text/plain": [
              "0"
            ]
          },
          "metadata": {},
          "execution_count": 7
        }
      ]
    },
    {
      "cell_type": "code",
      "source": [
        "vector = tf.constant([10,10])\n",
        "vector"
      ],
      "metadata": {
        "colab": {
          "base_uri": "https://localhost:8080/"
        },
        "id": "taAijBA9w584",
        "outputId": "4bf9d924-66f3-44ee-e676-f0d13726625e"
      },
      "execution_count": 8,
      "outputs": [
        {
          "output_type": "execute_result",
          "data": {
            "text/plain": [
              "<tf.Tensor: shape=(2,), dtype=int32, numpy=array([10, 10], dtype=int32)>"
            ]
          },
          "metadata": {},
          "execution_count": 8
        }
      ]
    },
    {
      "cell_type": "code",
      "source": [
        "vector.ndim"
      ],
      "metadata": {
        "colab": {
          "base_uri": "https://localhost:8080/"
        },
        "id": "1SfyLxjexSmB",
        "outputId": "7479630e-ff8f-41a7-b178-50a8cada03de"
      },
      "execution_count": 11,
      "outputs": [
        {
          "output_type": "execute_result",
          "data": {
            "text/plain": [
              "1"
            ]
          },
          "metadata": {},
          "execution_count": 11
        }
      ]
    },
    {
      "cell_type": "code",
      "source": [
        "matrix = tf.constant([[1,1,1,1],\n",
        "                      [2,2,2,2]])\n",
        "matrix"
      ],
      "metadata": {
        "colab": {
          "base_uri": "https://localhost:8080/"
        },
        "id": "Kr47geOkxBDp",
        "outputId": "539ce4d9-bb8b-45e9-f360-5ef6bbe2a4d6"
      },
      "execution_count": 9,
      "outputs": [
        {
          "output_type": "execute_result",
          "data": {
            "text/plain": [
              "<tf.Tensor: shape=(2, 4), dtype=int32, numpy=\n",
              "array([[1, 1, 1, 1],\n",
              "       [2, 2, 2, 2]], dtype=int32)>"
            ]
          },
          "metadata": {},
          "execution_count": 9
        }
      ]
    },
    {
      "cell_type": "code",
      "source": [
        "matrix.ndim"
      ],
      "metadata": {
        "colab": {
          "base_uri": "https://localhost:8080/"
        },
        "id": "X3EdOwdLxNsK",
        "outputId": "e7ddc718-f55b-4801-e8f6-74f78553918d"
      },
      "execution_count": 10,
      "outputs": [
        {
          "output_type": "execute_result",
          "data": {
            "text/plain": [
              "2"
            ]
          },
          "metadata": {},
          "execution_count": 10
        }
      ]
    },
    {
      "cell_type": "code",
      "source": [
        "tensor = tf.constant([[[1,1,1,1],\n",
        "                       [2,2,2,2]],\n",
        "                      [ [3,3,3,3],\n",
        "                       [4,4,4,4]]], dtype=tf.float16)\n",
        "tensor"
      ],
      "metadata": {
        "colab": {
          "base_uri": "https://localhost:8080/"
        },
        "id": "TwwOXtHZxWz1",
        "outputId": "075d8695-4c09-48e8-d398-dd5de687faeb"
      },
      "execution_count": 15,
      "outputs": [
        {
          "output_type": "execute_result",
          "data": {
            "text/plain": [
              "<tf.Tensor: shape=(2, 2, 4), dtype=float16, numpy=\n",
              "array([[[1., 1., 1., 1.],\n",
              "        [2., 2., 2., 2.]],\n",
              "\n",
              "       [[3., 3., 3., 3.],\n",
              "        [4., 4., 4., 4.]]], dtype=float16)>"
            ]
          },
          "metadata": {},
          "execution_count": 15
        }
      ]
    },
    {
      "cell_type": "markdown",
      "source": [
        "### Creating tensor using tf.variable() function"
      ],
      "metadata": {
        "id": "DMiyMQ0sy9X4"
      }
    },
    {
      "cell_type": "code",
      "source": [
        "ch_tensor = tf.Variable([1,7])\n",
        "ch_tensor"
      ],
      "metadata": {
        "colab": {
          "base_uri": "https://localhost:8080/"
        },
        "id": "JC_76a5rxRTE",
        "outputId": "52820e85-92ff-4275-8f9a-5f79c4c688ca"
      },
      "execution_count": 16,
      "outputs": [
        {
          "output_type": "execute_result",
          "data": {
            "text/plain": [
              "<tf.Variable 'Variable:0' shape=(2,) dtype=int32, numpy=array([1, 7], dtype=int32)>"
            ]
          },
          "metadata": {},
          "execution_count": 16
        }
      ]
    },
    {
      "cell_type": "code",
      "source": [
        "# this one is a changable tensor but tf.constant() tensor are not changable\n",
        "\n",
        "ch_tensor[0].assign(7)\n",
        "ch_tensor"
      ],
      "metadata": {
        "colab": {
          "base_uri": "https://localhost:8080/"
        },
        "id": "ZmGWISk90IuK",
        "outputId": "5b7176e9-c5dd-4f9e-8dd3-688193b88a92"
      },
      "execution_count": 17,
      "outputs": [
        {
          "output_type": "execute_result",
          "data": {
            "text/plain": [
              "<tf.Variable 'Variable:0' shape=(2,) dtype=int32, numpy=array([7, 7], dtype=int32)>"
            ]
          },
          "metadata": {},
          "execution_count": 17
        }
      ]
    },
    {
      "cell_type": "markdown",
      "source": [
        "### Creating random tensor using tensorflow"
      ],
      "metadata": {
        "id": "RxfFkT4Z0PbP"
      }
    },
    {
      "cell_type": "code",
      "source": [
        "# creating random tensor with same value\n",
        "\n",
        "random_1 = tf.random.Generator.from_seed(23)  # set seed for reproducibility\n",
        "random_1 = random_1.normal(shape=(3,2))\n",
        "random_1\n",
        "\n",
        "random_2 = tf.random.Generator.from_seed(23)\n",
        "random_2 = random_2.normal(shape=(3,2))\n",
        "random_2\n",
        "\n",
        "random_1, random_2, random_1 == random_2"
      ],
      "metadata": {
        "colab": {
          "base_uri": "https://localhost:8080/"
        },
        "id": "p9ys30qO0_qz",
        "outputId": "cf80c85d-2973-4050-be89-1266781d303b"
      },
      "execution_count": 25,
      "outputs": [
        {
          "output_type": "execute_result",
          "data": {
            "text/plain": [
              "(<tf.Tensor: shape=(3, 2), dtype=float32, numpy=\n",
              " array([[ 0.1175475 ,  0.03493892],\n",
              "        [-1.5700307 ,  0.4457582 ],\n",
              "        [ 0.10944034, -0.8035768 ]], dtype=float32)>,\n",
              " <tf.Tensor: shape=(3, 2), dtype=float32, numpy=\n",
              " array([[ 0.1175475 ,  0.03493892],\n",
              "        [-1.5700307 ,  0.4457582 ],\n",
              "        [ 0.10944034, -0.8035768 ]], dtype=float32)>,\n",
              " <tf.Tensor: shape=(3, 2), dtype=bool, numpy=\n",
              " array([[ True,  True],\n",
              "        [ True,  True],\n",
              "        [ True,  True]])>)"
            ]
          },
          "metadata": {},
          "execution_count": 25
        }
      ]
    },
    {
      "cell_type": "markdown",
      "source": [
        "### shuffling the order of the tensor"
      ],
      "metadata": {
        "id": "GtLbo0H32vNF"
      }
    },
    {
      "cell_type": "code",
      "source": [
        "unshuffled = tf.constant([[1,1,1,1],\n",
        "                          [2,2,2,2],\n",
        "                          [3,3,3,3]], dtype=tf.float16)\n",
        "unshuffled\n",
        "\n",
        "shuffled = tf.random.shuffle(unshuffled)\n",
        "\n",
        "#we can get same shuffle data by adding seed= x\n",
        "tf.random.set_seed(24)\n",
        "shuffled1 = tf.random.shuffle(unshuffled, seed=24)\n",
        "shuffled1, shuffled"
      ],
      "metadata": {
        "colab": {
          "base_uri": "https://localhost:8080/"
        },
        "id": "Pf3TenPm4Oda",
        "outputId": "c5a09985-7397-4516-d5b3-0459b8478c1f"
      },
      "execution_count": 52,
      "outputs": [
        {
          "output_type": "execute_result",
          "data": {
            "text/plain": [
              "(<tf.Tensor: shape=(3, 4), dtype=float16, numpy=\n",
              " array([[3., 3., 3., 3.],\n",
              "        [1., 1., 1., 1.],\n",
              "        [2., 2., 2., 2.]], dtype=float16)>,\n",
              " <tf.Tensor: shape=(3, 4), dtype=float16, numpy=\n",
              " array([[2., 2., 2., 2.],\n",
              "        [3., 3., 3., 3.],\n",
              "        [1., 1., 1., 1.]], dtype=float16)>)"
            ]
          },
          "metadata": {},
          "execution_count": 52
        }
      ]
    },
    {
      "cell_type": "markdown",
      "source": [
        "## indexing tensor"
      ],
      "metadata": {
        "id": "6QC2G0R37sue"
      }
    },
    {
      "cell_type": "code",
      "source": [
        "rank_2_tensor = tf.constant([[1,1,1],\n",
        "                             [2,2,2]])\n",
        "rank_2_tensor[:1]"
      ],
      "metadata": {
        "colab": {
          "base_uri": "https://localhost:8080/"
        },
        "id": "i-et3M5Y_nqc",
        "outputId": "b6e21a88-8c8a-4f93-904e-71050c00770a"
      },
      "execution_count": 61,
      "outputs": [
        {
          "output_type": "execute_result",
          "data": {
            "text/plain": [
              "<tf.Tensor: shape=(1, 3), dtype=int32, numpy=array([[1, 1, 1]], dtype=int32)>"
            ]
          },
          "metadata": {},
          "execution_count": 61
        }
      ]
    },
    {
      "cell_type": "code",
      "source": [
        "rank_3_tensor = rank_2_tensor[..., tf.newaxis]\n",
        "rank_3_tensor"
      ],
      "metadata": {
        "colab": {
          "base_uri": "https://localhost:8080/"
        },
        "id": "frTkjqAXAm4R",
        "outputId": "331d4e8c-7a79-4d6f-c9f4-46285eb7c969"
      },
      "execution_count": 63,
      "outputs": [
        {
          "output_type": "execute_result",
          "data": {
            "text/plain": [
              "<tf.Tensor: shape=(2, 3, 1), dtype=int32, numpy=\n",
              "array([[[1],\n",
              "        [1],\n",
              "        [1]],\n",
              "\n",
              "       [[2],\n",
              "        [2],\n",
              "        [2]]], dtype=int32)>"
            ]
          },
          "metadata": {},
          "execution_count": 63
        }
      ]
    },
    {
      "cell_type": "code",
      "source": [
        "tf.expand_dims(rank_2_tensor, axis=-1)  # -1 meand expand last one(final axis)"
      ],
      "metadata": {
        "colab": {
          "base_uri": "https://localhost:8080/"
        },
        "id": "XAPiFgGeCD7o",
        "outputId": "2f9f6015-30e3-4766-e0f1-3b657f73e9a2"
      },
      "execution_count": 64,
      "outputs": [
        {
          "output_type": "execute_result",
          "data": {
            "text/plain": [
              "<tf.Tensor: shape=(2, 3, 1), dtype=int32, numpy=\n",
              "array([[[1],\n",
              "        [1],\n",
              "        [1]],\n",
              "\n",
              "       [[2],\n",
              "        [2],\n",
              "        [2]]], dtype=int32)>"
            ]
          },
          "metadata": {},
          "execution_count": 64
        }
      ]
    },
    {
      "cell_type": "code",
      "source": [
        "tf.expand_dims(rank_2_tensor, axis=1)   # 1 means expand at middle"
      ],
      "metadata": {
        "colab": {
          "base_uri": "https://localhost:8080/"
        },
        "id": "NgyE0xyjCRD9",
        "outputId": "8371ea2b-ce07-4ad1-dd26-db87df4911df"
      },
      "execution_count": 65,
      "outputs": [
        {
          "output_type": "execute_result",
          "data": {
            "text/plain": [
              "<tf.Tensor: shape=(2, 1, 3), dtype=int32, numpy=\n",
              "array([[[1, 1, 1]],\n",
              "\n",
              "       [[2, 2, 2]]], dtype=int32)>"
            ]
          },
          "metadata": {},
          "execution_count": 65
        }
      ]
    },
    {
      "cell_type": "code",
      "source": [
        "tf.expand_dims(rank_2_tensor, axis=0)  # 0 means expand at first axis"
      ],
      "metadata": {
        "colab": {
          "base_uri": "https://localhost:8080/"
        },
        "id": "G7OIiDR4CXDl",
        "outputId": "f3f950cc-e3ad-46c3-aa62-1dd5d8da2f1e"
      },
      "execution_count": 66,
      "outputs": [
        {
          "output_type": "execute_result",
          "data": {
            "text/plain": [
              "<tf.Tensor: shape=(1, 2, 3), dtype=int32, numpy=\n",
              "array([[[1, 1, 1],\n",
              "        [2, 2, 2]]], dtype=int32)>"
            ]
          },
          "metadata": {},
          "execution_count": 66
        }
      ]
    },
    {
      "cell_type": "markdown",
      "source": [
        "##Manupulating Tensor"
      ],
      "metadata": {
        "id": "ZOx14pvPC-kk"
      }
    },
    {
      "cell_type": "code",
      "source": [
        "t1 = tf.constant([1,2,3,4])\n",
        "t1 +10"
      ],
      "metadata": {
        "colab": {
          "base_uri": "https://localhost:8080/"
        },
        "id": "zzK3T1plDnnY",
        "outputId": "c378e462-5ca5-468b-85b3-527aebe66ce1"
      },
      "execution_count": 67,
      "outputs": [
        {
          "output_type": "execute_result",
          "data": {
            "text/plain": [
              "<tf.Tensor: shape=(4,), dtype=int32, numpy=array([11, 12, 13, 14], dtype=int32)>"
            ]
          },
          "metadata": {},
          "execution_count": 67
        }
      ]
    },
    {
      "cell_type": "code",
      "source": [
        "t1 - 10"
      ],
      "metadata": {
        "colab": {
          "base_uri": "https://localhost:8080/"
        },
        "id": "eTpxi6CyHHSQ",
        "outputId": "e70909d9-5b28-45c6-e34f-894e61abf7ab"
      },
      "execution_count": 68,
      "outputs": [
        {
          "output_type": "execute_result",
          "data": {
            "text/plain": [
              "<tf.Tensor: shape=(4,), dtype=int32, numpy=array([-9, -8, -7, -6], dtype=int32)>"
            ]
          },
          "metadata": {},
          "execution_count": 68
        }
      ]
    },
    {
      "cell_type": "code",
      "source": [
        "t1  #t1 will never change bcz it's constant"
      ],
      "metadata": {
        "colab": {
          "base_uri": "https://localhost:8080/"
        },
        "id": "CGPCWmwzHKAg",
        "outputId": "14c5b45a-f7a6-41ca-bb52-f630c9fca1d4"
      },
      "execution_count": 69,
      "outputs": [
        {
          "output_type": "execute_result",
          "data": {
            "text/plain": [
              "<tf.Tensor: shape=(4,), dtype=int32, numpy=array([1, 2, 3, 4], dtype=int32)>"
            ]
          },
          "metadata": {},
          "execution_count": 69
        }
      ]
    },
    {
      "cell_type": "code",
      "source": [
        "t2 = tf.constant([[1,1],\n",
        "                  [2,2]])"
      ],
      "metadata": {
        "id": "Pz-YSD8GIAdH"
      },
      "execution_count": 79,
      "outputs": []
    },
    {
      "cell_type": "code",
      "source": [
        "#dot product \n",
        "\n",
        "tf.tensordot(t2,t2, axes=1)\n"
      ],
      "metadata": {
        "colab": {
          "base_uri": "https://localhost:8080/"
        },
        "id": "xqDqhXnJHQ-A",
        "outputId": "e781af6d-5ece-4992-f81f-370ee203b6d6"
      },
      "execution_count": 80,
      "outputs": [
        {
          "output_type": "execute_result",
          "data": {
            "text/plain": [
              "<tf.Tensor: shape=(2, 2), dtype=int32, numpy=\n",
              "array([[3, 3],\n",
              "       [6, 6]], dtype=int32)>"
            ]
          },
          "metadata": {},
          "execution_count": 80
        }
      ]
    },
    {
      "cell_type": "code",
      "source": [
        "## matrix multiplication\n",
        "\n",
        "x = tf.constant([[1,1,1],\n",
        "                 [2,2,2]])\n",
        "\n",
        "y = tf.constant([[3,3,3],\n",
        "                 [4,4,4]])\n",
        "\n",
        "tf.matmul(x,tf.transpose(y))  , tf.matmul(tf.transpose(x),y)"
      ],
      "metadata": {
        "colab": {
          "base_uri": "https://localhost:8080/"
        },
        "id": "3j7AmHQ6IlLR",
        "outputId": "ee02236b-c98a-4b37-9118-21c454c2c223"
      },
      "execution_count": 85,
      "outputs": [
        {
          "output_type": "execute_result",
          "data": {
            "text/plain": [
              "(<tf.Tensor: shape=(2, 2), dtype=int32, numpy=\n",
              " array([[ 9, 12],\n",
              "        [18, 24]], dtype=int32)>, <tf.Tensor: shape=(3, 3), dtype=int32, numpy=\n",
              " array([[11, 11, 11],\n",
              "        [11, 11, 11],\n",
              "        [11, 11, 11]], dtype=int32)>)"
            ]
          },
          "metadata": {},
          "execution_count": 85
        }
      ]
    },
    {
      "cell_type": "code",
      "source": [
        "t1.dtype"
      ],
      "metadata": {
        "colab": {
          "base_uri": "https://localhost:8080/"
        },
        "id": "CiMtR9UrJYOC",
        "outputId": "d97e37d6-bee1-4599-a10e-ca4f47ebb13f"
      },
      "execution_count": 86,
      "outputs": [
        {
          "output_type": "execute_result",
          "data": {
            "text/plain": [
              "tf.int32"
            ]
          },
          "metadata": {},
          "execution_count": 86
        }
      ]
    },
    {
      "cell_type": "code",
      "source": [
        "#changing data_type\n",
        "t2= tf.cast(t1,tf.float32)\n",
        "t2.dtype"
      ],
      "metadata": {
        "colab": {
          "base_uri": "https://localhost:8080/"
        },
        "id": "KF2OqyMzJdjv",
        "outputId": "dbf47450-625d-4bd4-84ce-17de98e5e870"
      },
      "execution_count": 89,
      "outputs": [
        {
          "output_type": "execute_result",
          "data": {
            "text/plain": [
              "tf.float32"
            ]
          },
          "metadata": {},
          "execution_count": 89
        }
      ]
    }
  ]
}